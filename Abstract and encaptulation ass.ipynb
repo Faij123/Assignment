{
 "cells": [
  {
   "cell_type": "raw",
   "id": "382be85f-1aed-40a4-8771-cb26ef606dc3",
   "metadata": {},
   "source": [
    "Q1. What is Abstraction in OOps? Explain with an example.\n",
    "Q2. Differentiate between Abstraction and Encapsulation. Explain with an example.\n",
    "Q3. What is abc module in python? Why is it used?\n",
    "Q4. How can we achieve data abstraction?\n",
    "Q5. Can we create an instance of an abstract class? Explain your answer.\n"
   ]
  },
  {
   "cell_type": "markdown",
   "id": "566a4c7c-1a5b-44d6-8183-b3efaf9cc5e3",
   "metadata": {},
   "source": [
    "Abstraction in Object-Oriented Programming (OOP) is the concept of hiding the complex implementation details and showing only the necessary features of an object"
   ]
  },
  {
   "cell_type": "code",
   "execution_count": 3,
   "id": "dbde10e3-5f3f-4a07-b34c-f41fdc1019ab",
   "metadata": {},
   "outputs": [
    {
     "name": "stdout",
     "output_type": "stream",
     "text": [
      "Blue VW car started\n",
      "Blue VW car is moving\n",
      "Blue VW car stopped\n"
     ]
    }
   ],
   "source": [
    "##Exampple \n",
    "\n",
    "class Car:\n",
    "    def __init__(self, brand, color):\n",
    "        self.brand = brand\n",
    "        self.color = color\n",
    "\n",
    "    def start(self):\n",
    "        print(f\"{self.color} {self.brand} car started\")\n",
    "\n",
    "    def drive(self):\n",
    "        print(f\"{self.color} {self.brand} car is moving\")\n",
    "\n",
    "    def stop(self):\n",
    "        print(f\"{self.color} {self.brand} car stopped\")\n",
    "\n",
    "\n",
    "# Creating an instance of Car\n",
    "my_car = Car(\"VW\", \"Blue\")\n",
    "my_car.start()\n",
    "my_car.drive()\n",
    "my_car.stop()\n"
   ]
  },
  {
   "cell_type": "markdown",
   "id": "00fda9c3-956d-48f9-ae10-70706f1df234",
   "metadata": {},
   "source": [
    "##2 ..\n",
    "Abstraction in Object-Oriented Programming (OOP) is the concept of hiding the complex implementation details and showing only the necessary features of an object\n",
    "whereas Encapsulation involves bundling the data (attributes) and the methods (functions) that operate on the data into a single unit or class."
   ]
  },
  {
   "cell_type": "markdown",
   "id": "475164b7-e615-4c3a-aa34-9c6d57dd857d",
   "metadata": {},
   "source": [
    "#3. \n",
    "\n",
    "The abc module in Python stands for Abstract Base Classe"
   ]
  },
  {
   "cell_type": "code",
   "execution_count": 6,
   "id": "9306e1fe-9b40-4f31-9c61-95aeae381bac",
   "metadata": {},
   "outputs": [
    {
     "data": {
      "text/plain": [
       "'this is for ds student assignment'"
      ]
     },
     "execution_count": 6,
     "metadata": {},
     "output_type": "execute_result"
    }
   ],
   "source": [
    "#4.\n",
    "\n",
    "import abc\n",
    "\n",
    "class pwskilss:\n",
    "    \n",
    "    @abc.abstractmethod\n",
    "    def studentdetails(self):\n",
    "        pass\n",
    "    \n",
    "    @abc.abstractmethod\n",
    "    def studentassignment(self):\n",
    "        pass\n",
    "    \n",
    "    @abc.abstractmethod\n",
    "    def studentmarks(self):\n",
    "        pass\n",
    "    \n",
    "class data_science(pwskilss):\n",
    "    \n",
    "    def studentdetails(self):\n",
    "        return \"this is my class for data science master\"\n",
    "    \n",
    "    def assignment_details(self):\n",
    "        \n",
    "        return \"this is for ds student assignment\"    \n",
    "    \n",
    "dsm = data_science()\n",
    "dsm.assignment_details()"
   ]
  },
  {
   "cell_type": "code",
   "execution_count": null,
   "id": "144d0bfc-9b63-46b1-bd3c-387bed16dec5",
   "metadata": {},
   "outputs": [],
   "source": [
    "#5.\n",
    "\n",
    "we cannot create instance of abc classes as these are the sub classes "
   ]
  }
 ],
 "metadata": {
  "kernelspec": {
   "display_name": "Python 3 (ipykernel)",
   "language": "python",
   "name": "python3"
  },
  "language_info": {
   "codemirror_mode": {
    "name": "ipython",
    "version": 3
   },
   "file_extension": ".py",
   "mimetype": "text/x-python",
   "name": "python",
   "nbconvert_exporter": "python",
   "pygments_lexer": "ipython3",
   "version": "3.10.8"
  }
 },
 "nbformat": 4,
 "nbformat_minor": 5
}
