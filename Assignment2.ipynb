{
 "cells": [
  {
   "cell_type": "code",
   "execution_count": 1,
   "id": "f9034e77-58ae-4d54-bdf6-aa983c54f6f1",
   "metadata": {},
   "outputs": [],
   "source": [
    "#Q1. Which keyword is used to create a function? Create a function to return a list of odd numbers in the\n",
    "#range of 1 to 25."
   ]
  },
  {
   "cell_type": "code",
   "execution_count": null,
   "id": "91d90fd7-6a08-4957-a66b-185543cf412d",
   "metadata": {},
   "outputs": [],
   "source": []
  },
  {
   "cell_type": "code",
   "execution_count": 10,
   "id": "79cf0248-5099-4722-84c2-14e63e037ffd",
   "metadata": {},
   "outputs": [
    {
     "data": {
      "text/plain": [
       "[1, 3, 5, 7, 9, 11, 13, 15, 17, 19, 21, 23]"
      ]
     },
     "execution_count": 10,
     "metadata": {},
     "output_type": "execute_result"
    }
   ],
   "source": [
    "l = list(range(1,25))\n",
    "def odd_list(x):\n",
    "    l1 = []\n",
    "    for i in x :\n",
    "        if i % 2 != 0:\n",
    "            l1.append(i)\n",
    "    return l1            \n",
    "odd_list(l)\n",
    "    "
   ]
  },
  {
   "cell_type": "code",
   "execution_count": 11,
   "id": "f036eab8-148c-481e-acae-3e6217c8fb51",
   "metadata": {},
   "outputs": [],
   "source": [
    "#Why *args and **kwargs is used in some functions? Create a function each for *args and **kwargs\n",
    "#to demonstrate their use."
   ]
  },
  {
   "cell_type": "code",
   "execution_count": 28,
   "id": "458928db-c84e-4da8-853a-5a769d779508",
   "metadata": {},
   "outputs": [],
   "source": [
    "def test1(c,d,a=2 , b=4,):\n",
    "    return a,b,c,d\n"
   ]
  },
  {
   "cell_type": "code",
   "execution_count": 32,
   "id": "ae6e726b-024a-4162-af5f-fe0f62a43616",
   "metadata": {},
   "outputs": [
    {
     "data": {
      "text/plain": [
       "(2, 4, 1, 2)"
      ]
     },
     "execution_count": 32,
     "metadata": {},
     "output_type": "execute_result"
    }
   ],
   "source": [
    "test1(1,2)"
   ]
  },
  {
   "cell_type": "code",
   "execution_count": 43,
   "id": "ca06cac3-5481-4476-a736-5b95c33b9087",
   "metadata": {},
   "outputs": [],
   "source": [
    "def test2(**kwargs):\n",
    "    return kwargs"
   ]
  },
  {
   "cell_type": "code",
   "execution_count": 44,
   "id": "47af4e6f-ed4a-45cc-a30f-97a81f156398",
   "metadata": {},
   "outputs": [
    {
     "data": {
      "text/plain": [
       "{'a': [1, 2, 3], 'b': 'Faijul'}"
      ]
     },
     "execution_count": 44,
     "metadata": {},
     "output_type": "execute_result"
    }
   ],
   "source": [
    "test2(a=[1,2,3],b=\"Faijul\")"
   ]
  },
  {
   "cell_type": "markdown",
   "id": "cd91b745-aa82-4022-8391-71c9bfdbe151",
   "metadata": {},
   "source": [
    "###Q3. What is an iterator in python? Name the method used to initialise the iterator object and the method\n",
    "used for iteration. Use these methods to print the first five elements of the given list [2, 4, 6, 8, 10, 12, 14,\n",
    "16, 18, 20].###\n"
   ]
  },
  {
   "cell_type": "code",
   "execution_count": 51,
   "id": "fe369214-138e-4036-9343-d91cc1c855b9",
   "metadata": {},
   "outputs": [],
   "source": [
    "l1 =[2, 4, 6, 8, 10, 12, 14, 16, 18, 20]\n",
    "l2 = iter(l1)"
   ]
  },
  {
   "cell_type": "code",
   "execution_count": 54,
   "id": "5d78aea3-91b2-4c13-92c0-b9626bbadf7d",
   "metadata": {},
   "outputs": [
    {
     "data": {
      "text/plain": [
       "4"
      ]
     },
     "execution_count": 54,
     "metadata": {},
     "output_type": "execute_result"
    }
   ],
   "source": [
    "next(l2)"
   ]
  },
  {
   "cell_type": "markdown",
   "id": "5cf78682-5fa1-4812-83bb-e57ccde43980",
   "metadata": {},
   "source": [
    "Q5. Create a generator function for prime numbers less than 1000. Use the next() method to print the\n",
    "first 20 prime numbers."
   ]
  },
  {
   "cell_type": "code",
   "execution_count": 57,
   "id": "92f6a19b-4940-44b6-b7ed-b9acb2fe414e",
   "metadata": {},
   "outputs": [
    {
     "ename": "IndentationError",
     "evalue": "unexpected indent (1639351477.py, line 2)",
     "output_type": "error",
     "traceback": [
      "\u001b[0;36m  Cell \u001b[0;32mIn[57], line 2\u001b[0;36m\u001b[0m\n\u001b[0;31m    for i in range(1000):\u001b[0m\n\u001b[0m    ^\u001b[0m\n\u001b[0;31mIndentationError\u001b[0m\u001b[0;31m:\u001b[0m unexpected indent\n"
     ]
    }
   ],
   "source": [
    "def prime_number(range(1000)):"
   ]
  },
  {
   "cell_type": "markdown",
   "id": "c305bbde-93df-4578-9bf1-c199696fb18c",
   "metadata": {},
   "source": [
    "Q7. Write a List Comprehension to iterate through the given string: ‘pwskills’.\n",
    "Expected output: ['p', 'w', 's', 'k', 'i', 'l', 'l', 's']"
   ]
  },
  {
   "cell_type": "code",
   "execution_count": 60,
   "id": "2d9422e3-cca4-4ff4-9b05-d44c7aeb8098",
   "metadata": {},
   "outputs": [
    {
     "name": "stdout",
     "output_type": "stream",
     "text": [
      "['p', 'w', 's', 'k', 'i', 'l', 'l', 's']\n"
     ]
    }
   ],
   "source": [
    "\n",
    "s = 'pwskills'\n",
    "result = [a for a in s]\n",
    "print(result)\n"
   ]
  },
  {
   "cell_type": "markdown",
   "id": "e3533929-dcf7-41f7-bcc8-82578e156bf2",
   "metadata": {},
   "source": [
    "Q6. Write a python program to print the first 10 Fibonacci numbers using a while loop."
   ]
  },
  {
   "cell_type": "code",
   "execution_count": 61,
   "id": "f0e8e09f-8e5e-4851-aa8a-38fef23c3968",
   "metadata": {},
   "outputs": [
    {
     "name": "stdout",
     "output_type": "stream",
     "text": [
      "0\n",
      "1\n",
      "1\n",
      "2\n",
      "3\n",
      "5\n",
      "8\n",
      "13\n",
      "21\n",
      "34\n"
     ]
    }
   ],
   "source": [
    "def test_fibonaci():\n",
    "    a,b=0,1\n",
    "    while True:\n",
    "        yield a\n",
    "        a,b=b,a+b\n",
    "fib = test_fibonaci()    \n",
    "for i in range(10):\n",
    "    print(next(fib))"
   ]
  },
  {
   "cell_type": "markdown",
   "id": "d86a1261-7fc0-4647-bf96-6bc0084f5b8e",
   "metadata": {},
   "source": [
    "Q6. Write a python program to print the first 10 Fibonacci numbers using a while loop."
   ]
  },
  {
   "cell_type": "code",
   "execution_count": 1,
   "id": "54fb1155-4957-42f3-b750-819151f9a059",
   "metadata": {},
   "outputs": [],
   "source": [
    " "
   ]
  },
  {
   "cell_type": "markdown",
   "id": "781d710e-6a6c-432b-b746-22c0bf82dd01",
   "metadata": {},
   "source": [
    "Q1. Create a python program to sort the given list of tuples based on integer value using a\n",
    "lambda function.\n",
    "[('Sachin Tendulkar', 34357), ('Ricky Ponting', 27483), ('Jack Kallis', 25534), ('Virat Kohli', 24936)]"
   ]
  },
  {
   "cell_type": "code",
   "execution_count": 2,
   "id": "9c2ec0bc-1a09-4d66-9848-dd878069f07a",
   "metadata": {},
   "outputs": [],
   "source": [
    "l =[('Sachin Tendulkar', 34357), ('Ricky Ponting', 27483), ('Jack Kallis', 25534), ('Virat Kohli', 24936)]"
   ]
  },
  {
   "cell_type": "code",
   "execution_count": 22,
   "id": "9fd80efa-2993-43b1-8d5e-547455a8011a",
   "metadata": {},
   "outputs": [
    {
     "name": "stdout",
     "output_type": "stream",
     "text": [
      "('Virat Kohli', 24936)\n",
      "('Jack Kallis', 25534)\n",
      "('Ricky Ponting', 27483)\n",
      "('Sachin Tendulkar', 34357)\n"
     ]
    }
   ],
   "source": [
    "sorted_l = sorted(l, key = lambda x : x[1])\n",
    "for i in sorted_l:\n",
    "    print(i)   "
   ]
  },
  {
   "cell_type": "markdown",
   "id": "578efe68-e2db-49a3-b4cd-d2045802d724",
   "metadata": {},
   "source": [
    "Q2. Write a Python Program to find the squares of all the numbers in the given list of integers using\n",
    "lambda and map functions.\n",
    "[1, 2, 3, 4, 5, 6, 7, 8, 9, 10]"
   ]
  },
  {
   "cell_type": "code",
   "execution_count": 23,
   "id": "eb058b25-38d0-484a-b460-3eaa1833a13e",
   "metadata": {},
   "outputs": [
    {
     "data": {
      "text/plain": [
       "[1, 4, 9, 16, 25, 36, 49, 64, 81, 100]"
      ]
     },
     "execution_count": 23,
     "metadata": {},
     "output_type": "execute_result"
    }
   ],
   "source": [
    "l =[1, 2, 3, 4, 5, 6, 7, 8, 9, 10]\n",
    "list(map(lambda x : x**2 , l))"
   ]
  },
  {
   "cell_type": "markdown",
   "id": "9b4f5774-037e-49ad-8c0f-dbad732d64a7",
   "metadata": {},
   "source": [
    "Q3. Write a python program to convert the given list of integers into a tuple of strings. Use map and\n",
    "lambda functions\n",
    "Given String: [1, 2, 3, 4, 5, 6, 7, 8, 9, 10]\n",
    "Expected output: ('1', '2', '3', '4', '5', '6', '7', '8', '9', '10')"
   ]
  },
  {
   "cell_type": "code",
   "execution_count": 26,
   "id": "f3d4f1e8-c217-4df7-a3fb-ce5f930e07a2",
   "metadata": {},
   "outputs": [
    {
     "data": {
      "text/plain": [
       "('1', '2', '3', '4', '5', '6', '7', '8', '9', '10')"
      ]
     },
     "execution_count": 26,
     "metadata": {},
     "output_type": "execute_result"
    }
   ],
   "source": [
    "l =[1, 2, 3, 4, 5, 6, 7, 8, 9, 10]\n",
    "tuple(map(lambda x : str(x) ,l))"
   ]
  },
  {
   "cell_type": "markdown",
   "id": "0c7d6cc8-8ea9-40c5-9a5f-4e6d24829c9f",
   "metadata": {},
   "source": [
    "Q4. Write a python program using reduce function to compute the product of a list containing numbers\n",
    "from 1 to 25."
   ]
  },
  {
   "cell_type": "code",
   "execution_count": 36,
   "id": "601b3721-0ac8-4d09-a864-8a90c315744f",
   "metadata": {},
   "outputs": [
    {
     "data": {
      "text/plain": [
       "15511210043330985984000000"
      ]
     },
     "execution_count": 36,
     "metadata": {},
     "output_type": "execute_result"
    }
   ],
   "source": [
    "l =list(range(1,26))\n",
    "from functools import reduce\n",
    "reduce(lambda x, y : x*y ,l)"
   ]
  },
  {
   "cell_type": "markdown",
   "id": "db392399-359b-446f-9cd8-48f7792c89b1",
   "metadata": {},
   "source": [
    "Q5. Write a python program to filter the numbers in a given list that are divisible by 2 and 3 using the\n",
    "filter function.\n",
    "[2, 3, 6, 9, 27, 60, 90, 120, 55, 46]"
   ]
  },
  {
   "cell_type": "code",
   "execution_count": 37,
   "id": "34aa6337-f388-4096-98f6-bd3c62e15232",
   "metadata": {},
   "outputs": [
    {
     "data": {
      "text/plain": [
       "[2, 3, 6, 9, 27, 60, 90, 120, 46]"
      ]
     },
     "execution_count": 37,
     "metadata": {},
     "output_type": "execute_result"
    }
   ],
   "source": [
    "l =[2, 3, 6, 9, 27, 60, 90, 120, 55, 46]\n",
    "list(filter(lambda x : x % 2 == 0 or x % 3 ==0 ,l ))"
   ]
  },
  {
   "cell_type": "markdown",
   "id": "1841f4cc-34d3-4440-8e59-17ba4da12767",
   "metadata": {},
   "source": [
    "Q6. Write a python program to find palindromes in the given list of strings using lambda and filter\n",
    "function.\n",
    "['python', 'php', 'aba', 'radar', 'level']"
   ]
  },
  {
   "cell_type": "code",
   "execution_count": 39,
   "id": "0eb45490-1f23-4ef4-a4f8-3aeb64a32ab9",
   "metadata": {},
   "outputs": [
    {
     "data": {
      "text/plain": [
       "['php', 'aba', 'radar', 'level']"
      ]
     },
     "execution_count": 39,
     "metadata": {},
     "output_type": "execute_result"
    }
   ],
   "source": [
    "l = ['python', 'php', 'aba', 'radar', 'level']\n",
    "list(filter(lambda x : x == x[::-1] ,l))"
   ]
  },
  {
   "cell_type": "code",
   "execution_count": null,
   "id": "318bd25e-a2ec-4cb8-981d-fdfc2b9fba31",
   "metadata": {},
   "outputs": [],
   "source": []
  }
 ],
 "metadata": {
  "kernelspec": {
   "display_name": "Python 3 (ipykernel)",
   "language": "python",
   "name": "python3"
  },
  "language_info": {
   "codemirror_mode": {
    "name": "ipython",
    "version": 3
   },
   "file_extension": ".py",
   "mimetype": "text/x-python",
   "name": "python",
   "nbconvert_exporter": "python",
   "pygments_lexer": "ipython3",
   "version": "3.10.8"
  }
 },
 "nbformat": 4,
 "nbformat_minor": 5
}
