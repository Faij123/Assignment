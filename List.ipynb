{
 "cells": [
  {
   "cell_type": "code",
   "execution_count": 75,
   "id": "bed16f23-22a1-4a67-9160-c2e59742de09",
   "metadata": {},
   "outputs": [],
   "source": [
    "l =[1,4,7,9,10,\"faij\",True, 5j+7]"
   ]
  },
  {
   "cell_type": "code",
   "execution_count": 76,
   "id": "d33d7fb6-e47f-4383-ae38-a11749b88b87",
   "metadata": {},
   "outputs": [
    {
     "data": {
      "text/plain": [
       "list"
      ]
     },
     "execution_count": 76,
     "metadata": {},
     "output_type": "execute_result"
    }
   ],
   "source": [
    "type(l)"
   ]
  },
  {
   "cell_type": "code",
   "execution_count": 77,
   "id": "06a466d7-9cea-4b81-acff-388c9bb51ca2",
   "metadata": {},
   "outputs": [
    {
     "data": {
      "text/plain": [
       "1"
      ]
     },
     "execution_count": 77,
     "metadata": {},
     "output_type": "execute_result"
    }
   ],
   "source": [
    "l[0]"
   ]
  },
  {
   "cell_type": "code",
   "execution_count": 78,
   "id": "d23aca62-c496-4410-8097-a3770e096e68",
   "metadata": {},
   "outputs": [
    {
     "data": {
      "text/plain": [
       "'faij'"
      ]
     },
     "execution_count": 78,
     "metadata": {},
     "output_type": "execute_result"
    }
   ],
   "source": [
    "l[5]"
   ]
  },
  {
   "cell_type": "code",
   "execution_count": 79,
   "id": "3440d457-6e1b-4f3d-9cc9-c753cccd4b4c",
   "metadata": {},
   "outputs": [
    {
     "data": {
      "text/plain": [
       "[1, 4, 7, 9, 10, 'faij', True, (7+5j)]"
      ]
     },
     "execution_count": 79,
     "metadata": {},
     "output_type": "execute_result"
    }
   ],
   "source": [
    "l"
   ]
  },
  {
   "cell_type": "code",
   "execution_count": 80,
   "id": "9b99c1e7-ecba-4e64-8624-77834a787683",
   "metadata": {},
   "outputs": [
    {
     "data": {
      "text/plain": [
       "[1, 4, 7]"
      ]
     },
     "execution_count": 80,
     "metadata": {},
     "output_type": "execute_result"
    }
   ],
   "source": [
    "l[0:3]"
   ]
  },
  {
   "cell_type": "code",
   "execution_count": 81,
   "id": "ff809d2f-42fc-4551-b558-60e22abd1ed6",
   "metadata": {},
   "outputs": [
    {
     "data": {
      "text/plain": [
       "(7+5j)"
      ]
     },
     "execution_count": 81,
     "metadata": {},
     "output_type": "execute_result"
    }
   ],
   "source": [
    "l[-1]"
   ]
  },
  {
   "cell_type": "code",
   "execution_count": 82,
   "id": "5a5a87aa-d5fe-432f-a062-38be47a9c46f",
   "metadata": {},
   "outputs": [
    {
     "data": {
      "text/plain": [
       "[(7+5j), True, 'faij', 10, 9, 7, 4, 1]"
      ]
     },
     "execution_count": 82,
     "metadata": {},
     "output_type": "execute_result"
    }
   ],
   "source": [
    "##reverse\n",
    "l[::-1]"
   ]
  },
  {
   "cell_type": "code",
   "execution_count": 83,
   "id": "e2078f9c-9531-4743-baa5-aa9eae0fd30f",
   "metadata": {},
   "outputs": [
    {
     "data": {
      "text/plain": [
       "[1, 7, 10, True]"
      ]
     },
     "execution_count": 83,
     "metadata": {},
     "output_type": "execute_result"
    }
   ],
   "source": [
    "##even indexes\n",
    "l[::2]"
   ]
  },
  {
   "cell_type": "code",
   "execution_count": 84,
   "id": "2f05b77a-69e7-4b41-81ab-b55f77bc4f9a",
   "metadata": {},
   "outputs": [
    {
     "data": {
      "text/plain": [
       "[1, 4, 7, 9, 10, 'faij', True, (7+5j)]"
      ]
     },
     "execution_count": 84,
     "metadata": {},
     "output_type": "execute_result"
    }
   ],
   "source": [
    "l"
   ]
  },
  {
   "cell_type": "code",
   "execution_count": 85,
   "id": "52458b77-9d3f-4ce9-8dc8-3f42fc7e96eb",
   "metadata": {},
   "outputs": [
    {
     "data": {
      "text/plain": [
       "'fa'"
      ]
     },
     "execution_count": 85,
     "metadata": {},
     "output_type": "execute_result"
    }
   ],
   "source": [
    "##first two letter from the string inside the list \n",
    "l[5][0:2]"
   ]
  },
  {
   "cell_type": "code",
   "execution_count": 86,
   "id": "3e264dba-a5f5-4170-836f-5dfe981deb2f",
   "metadata": {},
   "outputs": [
    {
     "data": {
      "text/plain": [
       "8"
      ]
     },
     "execution_count": 86,
     "metadata": {},
     "output_type": "execute_result"
    }
   ],
   "source": [
    "len(l)"
   ]
  },
  {
   "cell_type": "code",
   "execution_count": 87,
   "id": "ca0d9a59-81fd-4e8f-9eb9-f3f73dc943e2",
   "metadata": {},
   "outputs": [],
   "source": [
    "l.append(\"newskills\")"
   ]
  },
  {
   "cell_type": "code",
   "execution_count": 88,
   "id": "d7bbdcff-82bf-4eda-a0b2-74a52405da7a",
   "metadata": {},
   "outputs": [
    {
     "data": {
      "text/plain": [
       "[1, 4, 7, 9, 10, 'faij', True, (7+5j), 'newskills']"
      ]
     },
     "execution_count": 88,
     "metadata": {},
     "output_type": "execute_result"
    }
   ],
   "source": [
    "l"
   ]
  },
  {
   "cell_type": "code",
   "execution_count": 89,
   "id": "7561e3ab-0473-44ad-b02b-7ef954e96cf8",
   "metadata": {},
   "outputs": [],
   "source": [
    "l1 =[786,562,67.23]"
   ]
  },
  {
   "cell_type": "code",
   "execution_count": 90,
   "id": "f7d083e4-db96-416b-90e2-1e1486ad8b5f",
   "metadata": {},
   "outputs": [],
   "source": [
    "l.append(l1)"
   ]
  },
  {
   "cell_type": "code",
   "execution_count": 91,
   "id": "949639b0-1bfc-45c0-a070-e39387ce5ae6",
   "metadata": {},
   "outputs": [
    {
     "data": {
      "text/plain": [
       "[1, 4, 7, 9, 10, 'faij', True, (7+5j), 'newskills', [786, 562, 67.23]]"
      ]
     },
     "execution_count": 91,
     "metadata": {},
     "output_type": "execute_result"
    }
   ],
   "source": [
    "l"
   ]
  },
  {
   "cell_type": "code",
   "execution_count": 92,
   "id": "43459d93-a4c3-4355-be9a-12134ddb0995",
   "metadata": {},
   "outputs": [
    {
     "data": {
      "text/plain": [
       "562"
      ]
     },
     "execution_count": 92,
     "metadata": {},
     "output_type": "execute_result"
    }
   ],
   "source": [
    "l[-1][1]"
   ]
  },
  {
   "cell_type": "code",
   "execution_count": 93,
   "id": "8c378347-d160-4d5c-b2f6-416a83a981c5",
   "metadata": {},
   "outputs": [
    {
     "data": {
      "text/plain": [
       "[786, 562, 67.23]"
      ]
     },
     "execution_count": 93,
     "metadata": {},
     "output_type": "execute_result"
    }
   ],
   "source": [
    "l1"
   ]
  },
  {
   "cell_type": "code",
   "execution_count": 94,
   "id": "e79f736d-7419-4d33-a27b-fb50ff912e4e",
   "metadata": {},
   "outputs": [],
   "source": [
    "l1.insert(1,5)"
   ]
  },
  {
   "cell_type": "code",
   "execution_count": 95,
   "id": "a35ab5ca-fbf0-4227-817d-a2f1a8bd863c",
   "metadata": {},
   "outputs": [],
   "source": [
    "l1.insert(-1,45)"
   ]
  },
  {
   "cell_type": "code",
   "execution_count": 96,
   "id": "1c88c1c8-a0f6-4936-b1c8-5b1302168075",
   "metadata": {},
   "outputs": [
    {
     "data": {
      "text/plain": [
       "[786, 5, 562, 45, 67.23]"
      ]
     },
     "execution_count": 96,
     "metadata": {},
     "output_type": "execute_result"
    }
   ],
   "source": [
    "l1"
   ]
  },
  {
   "cell_type": "code",
   "execution_count": 97,
   "id": "c0080b0d-e49e-4da2-a7a2-0a5d4fcee2ac",
   "metadata": {},
   "outputs": [
    {
     "data": {
      "text/plain": [
       "67.23"
      ]
     },
     "execution_count": 97,
     "metadata": {},
     "output_type": "execute_result"
    }
   ],
   "source": [
    "l1.pop()"
   ]
  },
  {
   "cell_type": "code",
   "execution_count": 98,
   "id": "af90dee4-655d-4aed-82f2-10f97af9fd81",
   "metadata": {},
   "outputs": [
    {
     "data": {
      "text/plain": [
       "[1, 4, 7, 9, 10, 'faij', True, (7+5j), 'newskills', [786, 5, 562, 45]]"
      ]
     },
     "execution_count": 98,
     "metadata": {},
     "output_type": "execute_result"
    }
   ],
   "source": [
    "l"
   ]
  },
  {
   "cell_type": "code",
   "execution_count": 99,
   "id": "fa3b8310-90ee-4cf9-8002-e90effff87cf",
   "metadata": {},
   "outputs": [],
   "source": [
    "l.remove(9)"
   ]
  },
  {
   "cell_type": "code",
   "execution_count": 100,
   "id": "e39a5fdb-3b8a-461f-bf0a-86054f0d9f94",
   "metadata": {},
   "outputs": [],
   "source": [
    "l[-1].remove(5)"
   ]
  },
  {
   "cell_type": "code",
   "execution_count": 101,
   "id": "696fbb33-b806-46de-84bc-fbb8953916b8",
   "metadata": {},
   "outputs": [
    {
     "data": {
      "text/plain": [
       "str"
      ]
     },
     "execution_count": 101,
     "metadata": {},
     "output_type": "execute_result"
    }
   ],
   "source": [
    "type(l[4])"
   ]
  },
  {
   "cell_type": "code",
   "execution_count": 102,
   "id": "3b5ddf6b-886a-4fd7-8d11-a76997c2131f",
   "metadata": {},
   "outputs": [],
   "source": [
    "l2 =[23,45,12,67,123,64,54,269]"
   ]
  },
  {
   "cell_type": "code",
   "execution_count": 103,
   "id": "73bf778f-8fa1-443d-bda5-0903cb36b61e",
   "metadata": {},
   "outputs": [],
   "source": [
    "l2.sort()"
   ]
  },
  {
   "cell_type": "code",
   "execution_count": 104,
   "id": "81e9152a-4088-4b28-bcd6-36726451de3f",
   "metadata": {},
   "outputs": [
    {
     "data": {
      "text/plain": [
       "[12, 23, 45, 54, 64, 67, 123, 269]"
      ]
     },
     "execution_count": 104,
     "metadata": {},
     "output_type": "execute_result"
    }
   ],
   "source": [
    "l2"
   ]
  },
  {
   "cell_type": "code",
   "execution_count": 105,
   "id": "7d773c3d-e9cc-4816-b3b8-873cd7707e56",
   "metadata": {},
   "outputs": [],
   "source": [
    "t =(2,5,'faijul',678,89.98,[1,43,5,2,'islam'])"
   ]
  },
  {
   "cell_type": "code",
   "execution_count": 106,
   "id": "cffa3673-5e3c-404b-a4cf-3355d030a9b1",
   "metadata": {},
   "outputs": [
    {
     "data": {
      "text/plain": [
       "(2, 5, 'faijul', 678, 89.98, [1, 43, 5, 2, 'islam'])"
      ]
     },
     "execution_count": 106,
     "metadata": {},
     "output_type": "execute_result"
    }
   ],
   "source": [
    "t"
   ]
  },
  {
   "cell_type": "code",
   "execution_count": 109,
   "id": "c8d77ff4-fbea-406d-afba-b309f14f49c8",
   "metadata": {},
   "outputs": [
    {
     "data": {
      "text/plain": [
       "6"
      ]
     },
     "execution_count": 109,
     "metadata": {},
     "output_type": "execute_result"
    }
   ],
   "source": [
    "len(t)"
   ]
  },
  {
   "cell_type": "code",
   "execution_count": 110,
   "id": "b6845bb9-90c2-41b2-8c95-40e6bb91612a",
   "metadata": {},
   "outputs": [
    {
     "ename": "TypeError",
     "evalue": "'tuple' object does not support item assignment",
     "output_type": "error",
     "traceback": [
      "\u001b[0;31m---------------------------------------------------------------------------\u001b[0m",
      "\u001b[0;31mTypeError\u001b[0m                                 Traceback (most recent call last)",
      "Cell \u001b[0;32mIn[110], line 1\u001b[0m\n\u001b[0;32m----> 1\u001b[0m \u001b[43mt\u001b[49m\u001b[43m[\u001b[49m\u001b[38;5;241;43m0\u001b[39;49m\u001b[43m]\u001b[49m \u001b[38;5;241m=\u001b[39m \u001b[38;5;124m'\u001b[39m\u001b[38;5;124mAbc\u001b[39m\u001b[38;5;124m'\u001b[39m   \u001b[38;5;66;03m##tuple is immutable \u001b[39;00m\n",
      "\u001b[0;31mTypeError\u001b[0m: 'tuple' object does not support item assignment"
     ]
    }
   ],
   "source": [
    "t[0] = 'Abc'   ##tuple is immutable "
   ]
  },
  {
   "cell_type": "code",
   "execution_count": 111,
   "id": "1579be48-fd62-417c-b53c-c289d752d805",
   "metadata": {},
   "outputs": [],
   "source": [
    "##set \n",
    "s ={1,23,4,5,6,3,45,1,3,1,2,3,4,5,6,7,8}"
   ]
  },
  {
   "cell_type": "code",
   "execution_count": null,
   "id": "39ce2808-7b24-43a7-b5fc-479c600c6786",
   "metadata": {},
   "outputs": [],
   "source": [
    "s"
   ]
  },
  {
   "cell_type": "code",
   "execution_count": null,
   "id": "ddca42e1-3986-4fa5-8016-d73e6bd0ee87",
   "metadata": {},
   "outputs": [],
   "source": [
    "l3 = [1,2,3,2,1,2,3,1,2,3,4,5,6,7,8,9,12,3]"
   ]
  },
  {
   "cell_type": "code",
   "execution_count": 112,
   "id": "7cabdbc5-6e31-4015-8d1a-2b73d811b866",
   "metadata": {},
   "outputs": [
    {
     "data": {
      "text/plain": [
       "[1, 2, 3, 2, 1, 2, 3, 1, 2, 3, 4, 5, 6, 7, 8, 9, 12, 3]"
      ]
     },
     "execution_count": 112,
     "metadata": {},
     "output_type": "execute_result"
    }
   ],
   "source": [
    "l3"
   ]
  },
  {
   "cell_type": "code",
   "execution_count": null,
   "id": "2faa0d02-72a4-4841-a619-ad4e4ee07b01",
   "metadata": {},
   "outputs": [],
   "source": [
    "#remove all duplicate from the list \n",
    "l3 =list(set(l3))"
   ]
  },
  {
   "cell_type": "code",
   "execution_count": null,
   "id": "66e801f7-358f-49a8-97a9-ebcb651b9255",
   "metadata": {},
   "outputs": [],
   "source": [
    "l3"
   ]
  },
  {
   "cell_type": "code",
   "execution_count": 113,
   "id": "ecfb75f3-058f-45c8-a6b2-f2cbca901b21",
   "metadata": {},
   "outputs": [],
   "source": [
    "s.add(4)"
   ]
  },
  {
   "cell_type": "code",
   "execution_count": 116,
   "id": "2d0c4180-a791-43cb-ad83-e056babb4a97",
   "metadata": {},
   "outputs": [
    {
     "data": {
      "text/plain": [
       "{1, 2, 3, 4, 5, 6, 7, 8, 23, 45}"
      ]
     },
     "execution_count": 116,
     "metadata": {},
     "output_type": "execute_result"
    }
   ],
   "source": [
    "s"
   ]
  },
  {
   "cell_type": "code",
   "execution_count": 115,
   "id": "80c520c2-e46d-4cd3-aa6c-085c3723f617",
   "metadata": {},
   "outputs": [],
   "source": [
    "s.add(4)"
   ]
  },
  {
   "cell_type": "code",
   "execution_count": 117,
   "id": "85847a04-1442-4c73-a0b7-b12cc5a15faa",
   "metadata": {},
   "outputs": [],
   "source": [
    "s.remove(4)"
   ]
  },
  {
   "cell_type": "code",
   "execution_count": 118,
   "id": "b34f3796-5edf-42ee-aead-a01ad23e9122",
   "metadata": {},
   "outputs": [
    {
     "data": {
      "text/plain": [
       "{1, 2, 3, 5, 6, 7, 8, 23, 45}"
      ]
     },
     "execution_count": 118,
     "metadata": {},
     "output_type": "execute_result"
    }
   ],
   "source": [
    "s\n"
   ]
  },
  {
   "cell_type": "code",
   "execution_count": null,
   "id": "b1cd24c1-e89e-4acf-a2b9-b3f1241d6afe",
   "metadata": {},
   "outputs": [],
   "source": []
  }
 ],
 "metadata": {
  "kernelspec": {
   "display_name": "Python 3 (ipykernel)",
   "language": "python",
   "name": "python3"
  },
  "language_info": {
   "codemirror_mode": {
    "name": "ipython",
    "version": 3
   },
   "file_extension": ".py",
   "mimetype": "text/x-python",
   "name": "python",
   "nbconvert_exporter": "python",
   "pygments_lexer": "ipython3",
   "version": "3.10.8"
  }
 },
 "nbformat": 4,
 "nbformat_minor": 5
}
