{
 "cells": [
  {
   "cell_type": "raw",
   "id": "f06ee7ef-6e94-4107-bb33-d88d7ca9e59c",
   "metadata": {},
   "source": [
    "Q1. Explain Class and Object with respect to Object-Oriented Programming. Give a suitable example.\n",
    "\n",
    "Class: A blueprint that defines the properties and behaviors of objects.\n",
    "Object: An instance of a class, representing a specific entity.\n",
    "Example:\n",
    "Class: Car with attributes like brand and methods like drive().\n",
    "Object: my_car representing a specific car, instantiated from the Car class.\n"
   ]
  },
  {
   "cell_type": "raw",
   "id": "fbee1032-41fe-4d65-af34-d82791e58141",
   "metadata": {},
   "source": [
    "Q2. Name the four pillars of OOPs.\n",
    "\n",
    "Encapsulation: Bundling data (attributes) and methods (functions) that operate on the data into a single unit (class).\n",
    "Abstraction: Hiding complex implementation details and showing only essential features.\n",
    "Inheritance: Acquiring properties and behaviors from a parent class.\n",
    "Polymorphism: Ability to take multiple forms based on the context.\n"
   ]
  },
  {
   "cell_type": "raw",
   "id": "2d25e643-016e-45a5-9391-ca3d08979206",
   "metadata": {},
   "source": [
    "Q3. Explain why the __init__() function is used. Give a suitable example.\n",
    "\n",
    "__init__() Function: Used to initialize the object's state (attributes) when it is created.\n"
   ]
  },
  {
   "cell_type": "code",
   "execution_count": 6,
   "id": "0223e0a7-619c-4482-8243-3058a0ef6e11",
   "metadata": {},
   "outputs": [
    {
     "data": {
      "text/plain": [
       "'Alice'"
      ]
     },
     "execution_count": 6,
     "metadata": {},
     "output_type": "execute_result"
    }
   ],
   "source": [
    "#Example:\n",
    "\n",
    "class Person:\n",
    "    def __init__(self, name, age):\n",
    "        self.name = name\n",
    "        self.age = age\n",
    "\n",
    "# Creating an instance of Person\n",
    "person1 = Person(\"Alice\", 30)\n",
    "person1.name"
   ]
  },
  {
   "cell_type": "raw",
   "id": "82dc2836-7102-44c9-b864-78cfddaef367",
   "metadata": {},
   "source": [
    "Q4. Why self is used in OOPs?\n",
    "\n",
    "self: Refers to the instance of the class, allowing access to its attributes and methods within the class.\n",
    "It distinguishes instance variables from local variables and allows proper referencing"
   ]
  },
  {
   "cell_type": "raw",
   "id": "eb30f55c-32e3-43cf-9aee-ac618c83d080",
   "metadata": {},
   "source": [
    "Q5. What is inheritance? Give an example for each type of inheritance."
   ]
  },
  {
   "cell_type": "markdown",
   "id": "ede868d6-dc0c-41f3-a4ef-a5d4eaadeb71",
   "metadata": {},
   "source": [
    "there are 5 types of inheritances available "
   ]
  },
  {
   "cell_type": "code",
   "execution_count": null,
   "id": "ed109012-d578-4cad-8606-a7dc52734d27",
   "metadata": {},
   "outputs": [],
   "source": []
  },
  {
   "cell_type": "code",
   "execution_count": 37,
   "id": "70a9c46f-169a-4d8f-9a2a-96db1db31210",
   "metadata": {},
   "outputs": [],
   "source": [
    "class class1:\n",
    "    def test_class1(self):\n",
    "        return \"this is my class1\""
   ]
  },
  {
   "cell_type": "code",
   "execution_count": 38,
   "id": "e5d4dc55-c0ef-4e54-8a6a-2d778bf839fb",
   "metadata": {},
   "outputs": [],
   "source": [
    "class class2(class1):\n",
    "    def test_class2(self):\n",
    "         return \"this is my class2\""
   ]
  },
  {
   "cell_type": "code",
   "execution_count": 39,
   "id": "b7c9ad57-e33a-4e17-8f98-7b63e1b319d0",
   "metadata": {},
   "outputs": [],
   "source": [
    "class class3(class2):\n",
    "    pass\n",
    "    "
   ]
  },
  {
   "cell_type": "code",
   "execution_count": 40,
   "id": "ee713c31-3986-4d47-9584-13d99fc1d276",
   "metadata": {},
   "outputs": [],
   "source": [
    "obj_cl3 = class3()"
   ]
  },
  {
   "cell_type": "code",
   "execution_count": 41,
   "id": "11df9ac9-def8-48c0-bc12-3ddf4482ef72",
   "metadata": {},
   "outputs": [
    {
     "data": {
      "text/plain": [
       "'this is my class1'"
      ]
     },
     "execution_count": 41,
     "metadata": {},
     "output_type": "execute_result"
    }
   ],
   "source": [
    "obj_cl3.test_class1()"
   ]
  },
  {
   "cell_type": "code",
   "execution_count": 42,
   "id": "e4020637-82c5-4016-a7df-e9afc05871ee",
   "metadata": {},
   "outputs": [
    {
     "data": {
      "text/plain": [
       "'this is my class2'"
      ]
     },
     "execution_count": 42,
     "metadata": {},
     "output_type": "execute_result"
    }
   ],
   "source": [
    "obj_cl3.test_class2()"
   ]
  },
  {
   "cell_type": "code",
   "execution_count": null,
   "id": "d832285d-9efb-48f1-b6bd-dab5a99fbde5",
   "metadata": {},
   "outputs": [],
   "source": []
  },
  {
   "cell_type": "markdown",
   "id": "ac76a2ad-4811-41f0-a34d-87847ebce7d3",
   "metadata": {},
   "source": [
    "\n",
    "Multiple inheritance "
   ]
  },
  {
   "cell_type": "code",
   "execution_count": 43,
   "id": "c06563a1-60ed-4ce2-a807-bf1b69b709bc",
   "metadata": {},
   "outputs": [],
   "source": [
    "class class1:\n",
    "    def test1(self):\n",
    "        return \"this is class1\" "
   ]
  },
  {
   "cell_type": "code",
   "execution_count": 44,
   "id": "9c103bcf-69a5-4db4-9590-5207ef4a4040",
   "metadata": {},
   "outputs": [],
   "source": [
    "class class2:\n",
    "    def test2(self):\n",
    "        return \"this is class2\" "
   ]
  },
  {
   "cell_type": "code",
   "execution_count": 45,
   "id": "dd292841-8187-476b-9c99-48a3e56b76aa",
   "metadata": {},
   "outputs": [],
   "source": [
    "class class3(class1 , class2):\n",
    "        pass"
   ]
  },
  {
   "cell_type": "code",
   "execution_count": 46,
   "id": "0420f2f0-707b-4233-91ba-9015141988d8",
   "metadata": {},
   "outputs": [],
   "source": [
    "obj3 = class3()"
   ]
  },
  {
   "cell_type": "code",
   "execution_count": 47,
   "id": "efe9a089-a22e-445f-b6d5-c8e800f68eda",
   "metadata": {},
   "outputs": [
    {
     "data": {
      "text/plain": [
       "'this is class1'"
      ]
     },
     "execution_count": 47,
     "metadata": {},
     "output_type": "execute_result"
    }
   ],
   "source": [
    "obj3.test1()"
   ]
  },
  {
   "cell_type": "code",
   "execution_count": 48,
   "id": "b730e137-3e2b-4178-ab43-00caa59edd01",
   "metadata": {},
   "outputs": [
    {
     "data": {
      "text/plain": [
       "'this is class2'"
      ]
     },
     "execution_count": 48,
     "metadata": {},
     "output_type": "execute_result"
    }
   ],
   "source": [
    "obj3.test2()"
   ]
  }
 ],
 "metadata": {
  "kernelspec": {
   "display_name": "Python 3 (ipykernel)",
   "language": "python",
   "name": "python3"
  },
  "language_info": {
   "codemirror_mode": {
    "name": "ipython",
    "version": 3
   },
   "file_extension": ".py",
   "mimetype": "text/x-python",
   "name": "python",
   "nbconvert_exporter": "python",
   "pygments_lexer": "ipython3",
   "version": "3.10.8"
  }
 },
 "nbformat": 4,
 "nbformat_minor": 5
}
