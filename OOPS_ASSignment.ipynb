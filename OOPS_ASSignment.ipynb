{
 "cells": [
  {
   "cell_type": "raw",
   "id": "be3db90e-d18e-483e-9392-58906c544e62",
   "metadata": {},
   "source": [
    "Q1, Create a vehicle class with an init method having instance variables as name_of_vehicle, max_speed\n",
    "and average_of_vehicle."
   ]
  },
  {
   "cell_type": "code",
   "execution_count": 5,
   "id": "726e7d48-a710-4e9d-bb62-364f5e8c3534",
   "metadata": {},
   "outputs": [],
   "source": [
    "class vehicle :\n",
    "    def __init__(self , name_of_vehicle , max_speed , average_of_vehicle):\n",
    "        self.name_of_vehicle = name_of_vehicle\n",
    "        self.max_speed = max_speed \n",
    "        self.average_of_vehicle = average_of_vehicle\n",
    "        \n",
    "    "
   ]
  },
  {
   "cell_type": "raw",
   "id": "f4eccda7-64ec-48a7-98c9-4782fb308504",
   "metadata": {},
   "source": [
    "Q2. Create a child class car from the vehicle class created in Que 1, which will inherit the vehicle class.\n",
    "Create a method named seating_capacity which takes capacity as an argument and returns the name of\n",
    "the vehicle and its seating capacity."
   ]
  },
  {
   "cell_type": "code",
   "execution_count": 25,
   "id": "1350c367-1241-4d60-a97a-022e9534006b",
   "metadata": {},
   "outputs": [],
   "source": [
    "class car(vehicle):\n",
    "    def __init__(self , name_of_vehicle , max_speed , average_of_vehicle) :  \n",
    "        super().__init__( name_of_vehicle , max_speed , average_of_vehicle)\n",
    "    def  seating_capacity (self , capacity)  :\n",
    "        return  f\" the {self.name_of_vehicle} car has a seating capacity of {capacity} people\""
   ]
  },
  {
   "cell_type": "code",
   "execution_count": 28,
   "id": "38e65298-1762-4a5e-aa17-80908397fffd",
   "metadata": {},
   "outputs": [],
   "source": [
    "obj = car(\"VW\" ,120 ,\"12kmpl\")"
   ]
  },
  {
   "cell_type": "code",
   "execution_count": 29,
   "id": "a9ad54b5-bbd7-411d-8444-1e6eca0d5549",
   "metadata": {},
   "outputs": [],
   "source": [
    "seating_capacity = 5"
   ]
  },
  {
   "cell_type": "code",
   "execution_count": 32,
   "id": "32ee11f4-9fed-4c34-a6ec-bb948fcf91e7",
   "metadata": {},
   "outputs": [
    {
     "data": {
      "text/plain": [
       "' the VW car has a seating capacity of 5 people'"
      ]
     },
     "execution_count": 32,
     "metadata": {},
     "output_type": "execute_result"
    }
   ],
   "source": [
    "obj.seating_capacity(5)"
   ]
  },
  {
   "cell_type": "code",
   "execution_count": null,
   "id": "978dea31-737b-42cd-afef-2236e04f8620",
   "metadata": {},
   "outputs": [],
   "source": []
  }
 ],
 "metadata": {
  "kernelspec": {
   "display_name": "Python 3 (ipykernel)",
   "language": "python",
   "name": "python3"
  },
  "language_info": {
   "codemirror_mode": {
    "name": "ipython",
    "version": 3
   },
   "file_extension": ".py",
   "mimetype": "text/x-python",
   "name": "python",
   "nbconvert_exporter": "python",
   "pygments_lexer": "ipython3",
   "version": "3.10.8"
  }
 },
 "nbformat": 4,
 "nbformat_minor": 5
}
