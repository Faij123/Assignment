{
 "cells": [
  {
   "cell_type": "code",
   "execution_count": 1,
   "id": "8e6046b4-e290-4d93-937e-a697012ca743",
   "metadata": {},
   "outputs": [],
   "source": [
    "d ={'a':'faij'}"
   ]
  },
  {
   "cell_type": "code",
   "execution_count": 2,
   "id": "b6e638af-38cc-443f-b9b3-d66f665ecd52",
   "metadata": {},
   "outputs": [
    {
     "data": {
      "text/plain": [
       "{'a': 'faij'}"
      ]
     },
     "execution_count": 2,
     "metadata": {},
     "output_type": "execute_result"
    }
   ],
   "source": [
    "d"
   ]
  },
  {
   "cell_type": "code",
   "execution_count": 3,
   "id": "d42b2ac2-d7aa-48b1-9211-d4098e2a950d",
   "metadata": {},
   "outputs": [],
   "source": [
    "d1 ={\"name\":\"Faijul Islam\", \"Mobile\": 9851719383, True:12345}"
   ]
  },
  {
   "cell_type": "code",
   "execution_count": 4,
   "id": "8ebf1310-a986-4158-8e8f-bcd683f352b0",
   "metadata": {},
   "outputs": [
    {
     "data": {
      "text/plain": [
       "{'name': 'Faijul Islam', 'Mobile': 9851719383, True: 12345}"
      ]
     },
     "execution_count": 4,
     "metadata": {},
     "output_type": "execute_result"
    }
   ],
   "source": [
    "d1"
   ]
  },
  {
   "cell_type": "code",
   "execution_count": 5,
   "id": "2889cbfa-4b88-4f57-a09b-783cc00607f1",
   "metadata": {},
   "outputs": [
    {
     "data": {
      "text/plain": [
       "9851719383"
      ]
     },
     "execution_count": 5,
     "metadata": {},
     "output_type": "execute_result"
    }
   ],
   "source": [
    "d1[\"Mobile\"]"
   ]
  },
  {
   "cell_type": "code",
   "execution_count": 6,
   "id": "217463f9-6e0f-41ab-baf0-ec543e10079f",
   "metadata": {},
   "outputs": [
    {
     "data": {
      "text/plain": [
       "12345"
      ]
     },
     "execution_count": 6,
     "metadata": {},
     "output_type": "execute_result"
    }
   ],
   "source": [
    "d1[True]"
   ]
  },
  {
   "cell_type": "code",
   "execution_count": 7,
   "id": "737d141e-6b2c-4a60-9840-9c41b991f067",
   "metadata": {},
   "outputs": [
    {
     "data": {
      "text/plain": [
       "12345"
      ]
     },
     "execution_count": 7,
     "metadata": {},
     "output_type": "execute_result"
    }
   ],
   "source": [
    "d1[1]  ##Because True is also stored as 1"
   ]
  },
  {
   "cell_type": "code",
   "execution_count": 8,
   "id": "279fdbae-2d59-4342-b8f5-4cce55ec4929",
   "metadata": {},
   "outputs": [],
   "source": [
    "d2 ={'a1':'Faijul' , 'B1':'Islam' , 'a1':'Faijul Islam'} "
   ]
  },
  {
   "cell_type": "code",
   "execution_count": 9,
   "id": "4adcff16-cedc-4c0b-acf2-feccc43e9aff",
   "metadata": {},
   "outputs": [
    {
     "data": {
      "text/plain": [
       "'Faijul Islam'"
      ]
     },
     "execution_count": 9,
     "metadata": {},
     "output_type": "execute_result"
    }
   ],
   "source": [
    "d2[\"a1\"] ##Key should be unique , that is why it is overwritten by last Value "
   ]
  },
  {
   "cell_type": "code",
   "execution_count": 10,
   "id": "51fd1553-9f6a-4bc3-b37c-fa7b240054c0",
   "metadata": {},
   "outputs": [],
   "source": [
    "d3 ={'Sub' : 'Python' , 'course' : [\"pthon\",\"ML\",\"Data science\"] }"
   ]
  },
  {
   "cell_type": "code",
   "execution_count": 11,
   "id": "e6fdd951-2229-4760-8723-56f0358b5cc6",
   "metadata": {},
   "outputs": [
    {
     "data": {
      "text/plain": [
       "'Data science'"
      ]
     },
     "execution_count": 11,
     "metadata": {},
     "output_type": "execute_result"
    }
   ],
   "source": [
    "d3['course'][2] ##fetch data science from list inside dictionary"
   ]
  },
  {
   "cell_type": "code",
   "execution_count": 12,
   "id": "1d1c9f29-5e66-41d8-af88-6a8efa4bf60c",
   "metadata": {},
   "outputs": [],
   "source": [
    "d4 ={\"List\":[1,2,3,4,3,5,6] ,\"Tuple\":(12,2,34,2,4,5,6,7) , \"Set\":{23,34,23,56,77} ,\"Dict\" :{\"a\":123 ,\"b\":234}}"
   ]
  },
  {
   "cell_type": "code",
   "execution_count": 13,
   "id": "cecadddc-6051-4e9e-9a2c-2cd373d039a6",
   "metadata": {},
   "outputs": [
    {
     "data": {
      "text/plain": [
       "{23, 34, 56, 77}"
      ]
     },
     "execution_count": 13,
     "metadata": {},
     "output_type": "execute_result"
    }
   ],
   "source": [
    "d4[\"Set\"] ##Set doesnt carry repeated value "
   ]
  },
  {
   "cell_type": "code",
   "execution_count": 14,
   "id": "9e72d8ab-aabb-4587-abe7-4ee1bc8a9690",
   "metadata": {},
   "outputs": [
    {
     "data": {
      "text/plain": [
       "123"
      ]
     },
     "execution_count": 14,
     "metadata": {},
     "output_type": "execute_result"
    }
   ],
   "source": [
    "d4[\"Dict\"]['a']"
   ]
  },
  {
   "cell_type": "code",
   "execution_count": 15,
   "id": "eefc5331-bb56-45b3-84ad-8be2a7420971",
   "metadata": {},
   "outputs": [],
   "source": [
    "d4[\"New add\"] = [\"Value added and it will be added if the value is not present in dict\"]"
   ]
  },
  {
   "cell_type": "code",
   "execution_count": 16,
   "id": "f421729d-b848-488a-8430-dcb2267b4569",
   "metadata": {},
   "outputs": [
    {
     "data": {
      "text/plain": [
       "{'List': [1, 2, 3, 4, 3, 5, 6],\n",
       " 'Tuple': (12, 2, 34, 2, 4, 5, 6, 7),\n",
       " 'Set': {23, 34, 56, 77},\n",
       " 'Dict': {'a': 123, 'b': 234},\n",
       " 'New add': ['Value added and it will be added if the value is not present in dict']}"
      ]
     },
     "execution_count": 16,
     "metadata": {},
     "output_type": "execute_result"
    }
   ],
   "source": [
    "d4"
   ]
  },
  {
   "cell_type": "code",
   "execution_count": 17,
   "id": "3b427ae2-e2e9-4c9c-94dd-7659d30b14aa",
   "metadata": {},
   "outputs": [
    {
     "data": {
      "text/plain": [
       "dict_keys(['List', 'Tuple', 'Set', 'Dict', 'New add'])"
      ]
     },
     "execution_count": 17,
     "metadata": {},
     "output_type": "execute_result"
    }
   ],
   "source": [
    "d4.keys()"
   ]
  },
  {
   "cell_type": "code",
   "execution_count": 18,
   "id": "6e23e997-62c3-4d89-813f-8eaac501101d",
   "metadata": {},
   "outputs": [
    {
     "data": {
      "text/plain": [
       "[[1, 2, 3, 4, 3, 5, 6],\n",
       " (12, 2, 34, 2, 4, 5, 6, 7),\n",
       " {23, 34, 56, 77},\n",
       " {'a': 123, 'b': 234},\n",
       " ['Value added and it will be added if the value is not present in dict']]"
      ]
     },
     "execution_count": 18,
     "metadata": {},
     "output_type": "execute_result"
    }
   ],
   "source": [
    "list(d4.values())"
   ]
  },
  {
   "cell_type": "code",
   "execution_count": 19,
   "id": "f3854c4f-3c37-4356-b66d-f24b756d53d4",
   "metadata": {},
   "outputs": [],
   "source": [
    "del d4[\"New add\"] ##delete function will delete  "
   ]
  },
  {
   "cell_type": "code",
   "execution_count": 20,
   "id": "8faa28df-2ba5-4fce-ac3b-2495136ae17a",
   "metadata": {},
   "outputs": [
    {
     "data": {
      "text/plain": [
       "{'List': [1, 2, 3, 4, 3, 5, 6],\n",
       " 'Tuple': (12, 2, 34, 2, 4, 5, 6, 7),\n",
       " 'Set': {23, 34, 56, 77},\n",
       " 'Dict': {'a': 123, 'b': 234}}"
      ]
     },
     "execution_count": 20,
     "metadata": {},
     "output_type": "execute_result"
    }
   ],
   "source": [
    "d4"
   ]
  },
  {
   "cell_type": "code",
   "execution_count": 21,
   "id": "9e00f9e7-9b49-4f62-a841-8612491a8bdf",
   "metadata": {},
   "outputs": [
    {
     "ename": "KeyError",
     "evalue": "'New add'",
     "output_type": "error",
     "traceback": [
      "\u001b[0;31m---------------------------------------------------------------------------\u001b[0m",
      "\u001b[0;31mKeyError\u001b[0m                                  Traceback (most recent call last)",
      "Cell \u001b[0;32mIn[21], line 1\u001b[0m\n\u001b[0;32m----> 1\u001b[0m \u001b[43md4\u001b[49m\u001b[38;5;241;43m.\u001b[39;49m\u001b[43mpop\u001b[49m\u001b[43m(\u001b[49m\u001b[38;5;124;43m\"\u001b[39;49m\u001b[38;5;124;43mNew add\u001b[39;49m\u001b[38;5;124;43m\"\u001b[39;49m\u001b[43m)\u001b[49m \u001b[38;5;66;03m##it will pop the value of the ask parameter and delete that\u001b[39;00m\n",
      "\u001b[0;31mKeyError\u001b[0m: 'New add'"
     ]
    }
   ],
   "source": [
    "d4.pop(\"New add\") ##it will pop the value of the ask parameter and delete that"
   ]
  },
  {
   "cell_type": "code",
   "execution_count": 23,
   "id": "f079c092-7e9a-4a89-b73f-c9f513f6ec46",
   "metadata": {},
   "outputs": [
    {
     "name": "stdin",
     "output_type": "stream",
     "text": [
      "enter your marks 456\n"
     ]
    },
    {
     "name": "stdout",
     "output_type": "stream",
     "text": [
      "You will go to A0 batch\n"
     ]
    }
   ],
   "source": [
    "##Control Flow\n",
    "##marks = 65\n",
    "marks = int(input(\"enter your marks\"))\n",
    "if marks >= 80 :\n",
    "    print(\"You will go to A0 batch\")\n",
    "elif marks >= 60 and marks <80 :\n",
    "    print(\"You will be part of B batch\")\n",
    "elif marks >=40 and marks < 60 :\n",
    "    print(\"Part of C Batch\")\n",
    "else :\n",
    "    print(\"Special Care needed\")\n",
    "\n",
    "    "
   ]
  },
  {
   "cell_type": "code",
   "execution_count": 24,
   "id": "de540d2a-42a8-4549-a0c3-d3b3334e7e6b",
   "metadata": {},
   "outputs": [
    {
     "name": "stdin",
     "output_type": "stream",
     "text": [
      "enter the price 1200\n"
     ]
    },
    {
     "name": "stdout",
     "output_type": "stream",
     "text": [
      "I will not buy\n"
     ]
    }
   ],
   "source": [
    "price =int(input(\"enter the price\"))\n",
    "\n",
    "if price > 1000:\n",
    "    print(\"I will not buy\")\n",
    "else :\n",
    "    print(\"I will buy \")"
   ]
  },
  {
   "cell_type": "code",
   "execution_count": 3,
   "id": "33219dcb-b72d-4902-8ddd-6faab8017c2b",
   "metadata": {},
   "outputs": [
    {
     "name": "stdout",
     "output_type": "stream",
     "text": [
      "2\n",
      "3\n",
      "4\n",
      "5\n",
      "6\n",
      "7\n",
      "8\n",
      "9\n",
      "10\n",
      "11\n",
      "[2, 3, 4, 5, 6, 7, 8, 9, 10, 11]\n"
     ]
    }
   ],
   "source": [
    "L =[1,2,3,4,5,6,7,8,9,10]\n",
    "L1 =[]\n",
    "for i in L :\n",
    "    print(i+1)\n",
    "    L1.append(i+1)\n",
    "print(L1)    \n",
    "    "
   ]
  },
  {
   "cell_type": "code",
   "execution_count": 30,
   "id": "6e121620-4394-481c-b3a7-ed6de256eab3",
   "metadata": {},
   "outputs": [],
   "source": [
    "#convert the below list to upper case and give a final list \n",
    "\n",
    "\n"
   ]
  },
  {
   "cell_type": "code",
   "execution_count": 4,
   "id": "5e2e66e7-239a-4df4-8dbd-584b9ba00bdc",
   "metadata": {},
   "outputs": [
    {
     "name": "stdout",
     "output_type": "stream",
     "text": [
      "faijul\n",
      "islam\n",
      "ayesha\n",
      "ahamed\n",
      "['FAIJUL', 'ISLAM', 'AYESHA', 'AHAMED']\n"
     ]
    }
   ],
   "source": [
    "l2 =[\"faijul\",'islam','ayesha','ahamed']\n",
    "l3 = []\n",
    "for i in l2:\n",
    "    print(i)\n",
    "    l3.append(i.upper())\n",
    "print(l3)    "
   ]
  },
  {
   "cell_type": "code",
   "execution_count": 2,
   "id": "e4ba7e62-f823-4cf5-b0c2-83f9cfe3ee68",
   "metadata": {},
   "outputs": [
    {
     "name": "stdout",
     "output_type": "stream",
     "text": [
      "[1]\n",
      "[1, 2]\n",
      "[1, 2, 3]\n",
      "[1, 2, 3, 4]\n",
      "[1, 2, 3, 4, 5]\n",
      "[1, 2, 3, 4, 5, 654]\n",
      "[1, 2, 3, 4, 5, 654, 6]\n",
      "['abc']\n",
      "['abc', 'flight']\n",
      "['abc', 'flight', 'efg']\n",
      "[1, 2, 3, 4, 5, 654, 6, 78]\n",
      "[1, 2, 3, 4, 5, 654, 6, 78]\n",
      "['abc', 'flight', 'efg']\n"
     ]
    }
   ],
   "source": [
    "#make two different list(1 for integer another for string) from the below list mixed of integer and string \n",
    "\n",
    "l4 =[1,2,3,4,5,654,6,\"abc\",\"flight\",\"efg\",78]\n",
    "l5_int =[]\n",
    "l6_str =[]\n",
    "for i in l4:\n",
    "    if type(i) == int:\n",
    "        l5_int.append(i)\n",
    "        print(l5_int)\n",
    "    else :\n",
    "        l6_str.append(i)\n",
    "        print(l6_str)\n",
    "print(l5_int)\n",
    "print(l6_str)\n",
    "   \n",
    "    \n",
    " "
   ]
  },
  {
   "cell_type": "code",
   "execution_count": null,
   "id": "9d520fe4-a4d3-4189-8935-57f0c4a04138",
   "metadata": {},
   "outputs": [],
   "source": []
  }
 ],
 "metadata": {
  "kernelspec": {
   "display_name": "Python 3 (ipykernel)",
   "language": "python",
   "name": "python3"
  },
  "language_info": {
   "codemirror_mode": {
    "name": "ipython",
    "version": 3
   },
   "file_extension": ".py",
   "mimetype": "text/x-python",
   "name": "python",
   "nbconvert_exporter": "python",
   "pygments_lexer": "ipython3",
   "version": "3.10.8"
  }
 },
 "nbformat": 4,
 "nbformat_minor": 5
}
