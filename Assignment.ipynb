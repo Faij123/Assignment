{
 "cells": [
  {
   "cell_type": "code",
   "execution_count": 1,
   "id": "97654b7f-e63c-4ff6-8d42-f92e22165c50",
   "metadata": {},
   "outputs": [],
   "source": [
    "my_list = [1, 2, 3, 4, 5]"
   ]
  },
  {
   "cell_type": "code",
   "execution_count": 3,
   "id": "b7d40d30-687a-4dea-90db-726ce16f157e",
   "metadata": {},
   "outputs": [
    {
     "data": {
      "text/plain": [
       "[2, 3]"
      ]
     },
     "execution_count": 3,
     "metadata": {},
     "output_type": "execute_result"
    }
   ],
   "source": [
    "##slicing the list to obtain [2,3]\n",
    "my_list[1:3]  ##1 : 3 means from index 1 upto index 3 (excluding indesx 3)"
   ]
  },
  {
   "cell_type": "code",
   "execution_count": 5,
   "id": "7083b814-a549-426b-8f5c-3744e3c1bb32",
   "metadata": {},
   "outputs": [],
   "source": [
    "age = 25"
   ]
  },
  {
   "cell_type": "code",
   "execution_count": 6,
   "id": "aebbbc5e-9725-4d7f-98d0-2fe79973598f",
   "metadata": {},
   "outputs": [
    {
     "data": {
      "text/plain": [
       "25"
      ]
     },
     "execution_count": 6,
     "metadata": {},
     "output_type": "execute_result"
    }
   ],
   "source": [
    "age"
   ]
  },
  {
   "cell_type": "code",
   "execution_count": 8,
   "id": "85da0731-3898-403b-adc5-513914606e47",
   "metadata": {},
   "outputs": [
    {
     "name": "stdout",
     "output_type": "stream",
     "text": [
      "<class 'float'>\n"
     ]
    }
   ],
   "source": [
    "price = 9.99\n",
    "print(type(price))"
   ]
  },
  {
   "cell_type": "code",
   "execution_count": 10,
   "id": "ff0cd713-9563-4784-97c2-457b1b2fbc96",
   "metadata": {},
   "outputs": [
    {
     "name": "stdout",
     "output_type": "stream",
     "text": [
      "Faijul Islam\n"
     ]
    }
   ],
   "source": [
    "name = \"Faijul Islam\"\n",
    "\n",
    "print(name)"
   ]
  },
  {
   "cell_type": "code",
   "execution_count": 11,
   "id": "2aed4777-aa7f-43b0-93a5-bc1b43c8dd95",
   "metadata": {},
   "outputs": [],
   "source": [
    "s = \"Hello World!\"\n"
   ]
  },
  {
   "cell_type": "code",
   "execution_count": 12,
   "id": "897ff97d-97e8-42cf-86ad-226624559b17",
   "metadata": {},
   "outputs": [
    {
     "data": {
      "text/plain": [
       "'Hello World'"
      ]
     },
     "execution_count": 12,
     "metadata": {},
     "output_type": "execute_result"
    }
   ],
   "source": [
    "s\n"
   ]
  },
  {
   "cell_type": "code",
   "execution_count": 18,
   "id": "b771a517-a60c-4511-b6a1-98b3369b0ee5",
   "metadata": {},
   "outputs": [
    {
     "data": {
      "text/plain": [
       "' World'"
      ]
     },
     "execution_count": 18,
     "metadata": {},
     "output_type": "execute_result"
    }
   ],
   "source": [
    "s[5::]"
   ]
  },
  {
   "cell_type": "code",
   "execution_count": 19,
   "id": "93443db6-97e1-49d1-a88f-fa508b862980",
   "metadata": {},
   "outputs": [],
   "source": [
    "is_student =True"
   ]
  },
  {
   "cell_type": "code",
   "execution_count": 20,
   "id": "b4ab6b01-a8bd-4ae8-bf4f-ab001bfc177e",
   "metadata": {},
   "outputs": [
    {
     "data": {
      "text/plain": [
       "True"
      ]
     },
     "execution_count": 20,
     "metadata": {},
     "output_type": "execute_result"
    }
   ],
   "source": [
    "is_student"
   ]
  },
  {
   "cell_type": "code",
   "execution_count": 21,
   "id": "f7ee40f9-b216-41e0-a634-64046c095f9d",
   "metadata": {},
   "outputs": [
    {
     "data": {
      "text/plain": [
       "1"
      ]
     },
     "execution_count": 21,
     "metadata": {},
     "output_type": "execute_result"
    }
   ],
   "source": [
    "10 % 3"
   ]
  },
  {
   "cell_type": "code",
   "execution_count": 23,
   "id": "679f63a2-723a-4bce-be7b-2ff02a008de4",
   "metadata": {},
   "outputs": [
    {
     "name": "stdout",
     "output_type": "stream",
     "text": [
      "x is greater than y\n"
     ]
    }
   ],
   "source": [
    "x = 5\n",
    "\n",
    "y = 2\n",
    "\n",
    " \n",
    "\n",
    "if x > y:\n",
    "\n",
    "    print(\"x is greater than y\")\n",
    "\n",
    "elif x < y:\n",
    "\n",
    "    print(\"x is less than y\")\n",
    "\n",
    "else:\n",
    "\n",
    "    print(\"x is equal to y\")"
   ]
  },
  {
   "cell_type": "code",
   "execution_count": 28,
   "id": "c410a94f-47de-4f12-9516-5b5a53bea032",
   "metadata": {},
   "outputs": [
    {
     "name": "stdout",
     "output_type": "stream",
     "text": [
      "0\n",
      "1\n",
      "3\n",
      "4\n"
     ]
    }
   ],
   "source": [
    "for i in range(5):\n",
    "    \n",
    "\n",
    "    if i == 2:\n",
    "\n",
    "        continue\n",
    "\n",
    "    print(i)"
   ]
  },
  {
   "cell_type": "code",
   "execution_count": null,
   "id": "6b136025-d52f-45e6-8dfd-f9fdafca7aac",
   "metadata": {},
   "outputs": [],
   "source": []
  }
 ],
 "metadata": {
  "kernelspec": {
   "display_name": "Python 3 (ipykernel)",
   "language": "python",
   "name": "python3"
  },
  "language_info": {
   "codemirror_mode": {
    "name": "ipython",
    "version": 3
   },
   "file_extension": ".py",
   "mimetype": "text/x-python",
   "name": "python",
   "nbconvert_exporter": "python",
   "pygments_lexer": "ipython3",
   "version": "3.10.8"
  }
 },
 "nbformat": 4,
 "nbformat_minor": 5
}
